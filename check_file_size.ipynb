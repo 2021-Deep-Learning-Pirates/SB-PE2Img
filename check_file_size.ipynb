{
  "nbformat": 4,
  "nbformat_minor": 0,
  "metadata": {
    "colab": {
      "name": "check_file_size.ipynb",
      "provenance": []
    },
    "kernelspec": {
      "name": "python3",
      "display_name": "Python 3"
    },
    "language_info": {
      "name": "python"
    }
  },
  "cells": [
    {
      "cell_type": "code",
      "metadata": {
        "colab": {
          "base_uri": "https://localhost:8080/"
        },
        "id": "85ifPSsLJna9",
        "outputId": "1bd10b8b-b85f-47af-e001-b570cf2793c2"
      },
      "source": [
        "from google.colab import drive\n",
        "from os import path\n",
        "import pandas as pd\n",
        "\n",
        "import tensorflow as tf\n",
        "from tensorflow.keras import layers, models, optimizers\n",
        "from tensorflow.keras.utils import to_categorical\n",
        "\n",
        "data_dir_name = 'KISA-CISC2017-Malware-1st'\n",
        "drive.mount('/content/gdrive/')\n",
        "data_base_dir = path.join('./gdrive/MyDrive/Colab Notebooks/Malware_PE/대용량_정상,악성파일Ⅰ-(1),(2)/대용량_정상,악성파일1/', data_dir_name)\n",
        "if not path.exists(data_base_dir):\n",
        "  print('Path Error!!!')"
      ],
      "execution_count": 1,
      "outputs": [
        {
          "output_type": "stream",
          "text": [
            "Drive already mounted at /content/gdrive/; to attempt to forcibly remount, call drive.mount(\"/content/gdrive/\", force_remount=True).\n"
          ],
          "name": "stdout"
        }
      ]
    },
    {
      "cell_type": "code",
      "metadata": {
        "id": "geO7ac6MLHk9"
      },
      "source": [
        "import os"
      ],
      "execution_count": 2,
      "outputs": []
    },
    {
      "cell_type": "code",
      "metadata": {
        "colab": {
          "base_uri": "https://localhost:8080/",
          "height": 35
        },
        "id": "inIdj9XcMSUX",
        "outputId": "0ed680ba-265a-4cd3-de5d-9a9a4690c34b"
      },
      "source": [
        "os.getcwd()"
      ],
      "execution_count": 3,
      "outputs": [
        {
          "output_type": "execute_result",
          "data": {
            "application/vnd.google.colaboratory.intrinsic+json": {
              "type": "string"
            },
            "text/plain": [
              "'/content'"
            ]
          },
          "metadata": {
            "tags": []
          },
          "execution_count": 3
        }
      ]
    },
    {
      "cell_type": "code",
      "metadata": {
        "id": "-6QpyAmcMZ_X"
      },
      "source": [
        "file_list = os.listdir(data_base_dir)"
      ],
      "execution_count": 6,
      "outputs": []
    },
    {
      "cell_type": "code",
      "metadata": {
        "colab": {
          "base_uri": "https://localhost:8080/"
        },
        "id": "WPLvgiy8Mr_7",
        "outputId": "5af31a18-428b-450b-d14c-f7e3264e6260"
      },
      "source": [
        "print(\"file list length : \", len(file_list))"
      ],
      "execution_count": 7,
      "outputs": [
        {
          "output_type": "stream",
          "text": [
            "file list length :  7500\n"
          ],
          "name": "stdout"
        }
      ]
    },
    {
      "cell_type": "code",
      "metadata": {
        "id": "TrHUMBjSNdq0"
      },
      "source": [
        "size_list = []\n",
        "for fileName in file_list:\n",
        "  size_list.append(os.path.getsize(data_base_dir + '/' + fileName))"
      ],
      "execution_count": 8,
      "outputs": []
    },
    {
      "cell_type": "code",
      "metadata": {
        "colab": {
          "base_uri": "https://localhost:8080/"
        },
        "id": "KTPxpQ07RFmE",
        "outputId": "37355cfe-1611-432d-85a6-a69e9e38f9cd"
      },
      "source": [
        "print(\"size list length : \", len(size_list))\n",
        "print(\"max : \", max(size_list))\n",
        "print(\"min : \", min(size_list))"
      ],
      "execution_count": 10,
      "outputs": [
        {
          "output_type": "stream",
          "text": [
            "size list length :  7500\n",
            "max :  35024900\n",
            "min :  1208\n"
          ],
          "name": "stdout"
        }
      ]
    }
  ]
}